{
 "cells": [
  {
   "cell_type": "markdown",
   "id": "60c93011",
   "metadata": {
    "papermill": {
     "duration": 0.005518,
     "end_time": "2023-10-23T13:35:45.950178",
     "exception": false,
     "start_time": "2023-10-23T13:35:45.944660",
     "status": "completed"
    },
    "tags": []
   },
   "source": [
    "# Initialization"
   ]
  },
  {
   "cell_type": "code",
   "execution_count": 3,
   "id": "fce391c2",
   "metadata": {
    "execution": {
     "iopub.execute_input": "2023-10-23T13:35:45.961602Z",
     "iopub.status.busy": "2023-10-23T13:35:45.961028Z",
     "iopub.status.idle": "2023-10-23T13:35:49.708412Z",
     "shell.execute_reply": "2023-10-23T13:35:49.707284Z"
    },
    "papermill": {
     "duration": 3.756114,
     "end_time": "2023-10-23T13:35:49.710909",
     "exception": false,
     "start_time": "2023-10-23T13:35:45.954795",
     "status": "completed"
    },
    "tags": []
   },
   "outputs": [],
   "source": [
    "import os\n",
    "import random\n",
    "\n",
    "import numpy as np\n",
    "import torch\n",
    "\n",
    "SEED = 3000\n",
    "import sklearn\n",
    "def seed_everything(seed):\n",
    "    random.seed(seed)\n",
    "    os.environ['PYTHONHASHSEED'] = str(seed)\n",
    "    np.random.seed(seed)\n",
    "    torch.manual_seed(seed)\n",
    "    torch.cuda.manual_seed(seed)\n",
    "    torch.backends.cudnn.deterministic = True\n",
    "\n",
    "seed_everything(SEED)"
   ]
  },
  {
   "cell_type": "code",
   "execution_count": 4,
   "id": "5e60ed53",
   "metadata": {
    "execution": {
     "iopub.execute_input": "2023-10-23T13:35:49.722889Z",
     "iopub.status.busy": "2023-10-23T13:35:49.721739Z",
     "iopub.status.idle": "2023-10-23T13:35:51.531842Z",
     "shell.execute_reply": "2023-10-23T13:35:51.530368Z"
    },
    "papermill": {
     "duration": 1.818545,
     "end_time": "2023-10-23T13:35:51.534331",
     "exception": false,
     "start_time": "2023-10-23T13:35:49.715786",
     "status": "completed"
    },
    "tags": []
   },
   "outputs": [],
   "source": [
    "import pandas as pd\n",
    "from PIL import Image\n",
    "from sklearn.metrics import accuracy_score\n",
    "from sklearn import datasets\n",
    "import matplotlib.pyplot as plt\n",
    "import numpy as np\n",
    "from sklearn.model_selection import train_test_split\n",
    "from sklearn.preprocessing import scale"
   ]
  },
  {
   "cell_type": "markdown",
   "id": "3573d5e3",
   "metadata": {
    "papermill": {
     "duration": 0.00436,
     "end_time": "2023-10-23T13:35:51.543508",
     "exception": false,
     "start_time": "2023-10-23T13:35:51.539148",
     "status": "completed"
    },
    "tags": []
   },
   "source": [
    "# Data processing"
   ]
  },
  {
   "cell_type": "code",
   "execution_count": 5,
   "id": "dff275df",
   "metadata": {
    "execution": {
     "iopub.execute_input": "2023-10-23T13:35:51.554361Z",
     "iopub.status.busy": "2023-10-23T13:35:51.553805Z",
     "iopub.status.idle": "2023-10-23T13:35:54.068924Z",
     "shell.execute_reply": "2023-10-23T13:35:54.067485Z"
    },
    "papermill": {
     "duration": 2.523371,
     "end_time": "2023-10-23T13:35:54.071427",
     "exception": false,
     "start_time": "2023-10-23T13:35:51.548056",
     "status": "completed"
    },
    "tags": []
   },
   "outputs": [],
   "source": [
    "df = pd.read_csv('train.csv')"
   ]
  },
  {
   "cell_type": "code",
   "execution_count": 6,
   "id": "683ca9f1",
   "metadata": {
    "execution": {
     "iopub.execute_input": "2023-10-23T13:35:54.082401Z",
     "iopub.status.busy": "2023-10-23T13:35:54.082082Z",
     "iopub.status.idle": "2023-10-23T13:35:54.095405Z",
     "shell.execute_reply": "2023-10-23T13:35:54.093631Z"
    },
    "papermill": {
     "duration": 0.02175,
     "end_time": "2023-10-23T13:35:54.097976",
     "exception": false,
     "start_time": "2023-10-23T13:35:54.076226",
     "status": "completed"
    },
    "tags": []
   },
   "outputs": [],
   "source": [
    "zero = df.index[df['label'] == 0].tolist()"
   ]
  },
  {
   "cell_type": "code",
   "execution_count": 7,
   "id": "01218c53",
   "metadata": {
    "execution": {
     "iopub.execute_input": "2023-10-23T13:35:54.109110Z",
     "iopub.status.busy": "2023-10-23T13:35:54.108743Z",
     "iopub.status.idle": "2023-10-23T13:35:54.133691Z",
     "shell.execute_reply": "2023-10-23T13:35:54.132033Z"
    },
    "papermill": {
     "duration": 0.033537,
     "end_time": "2023-10-23T13:35:54.136317",
     "exception": false,
     "start_time": "2023-10-23T13:35:54.102780",
     "status": "completed"
    },
    "tags": []
   },
   "outputs": [],
   "source": [
    "df_zero = df.loc[zero]\n",
    "df_zero = df_zero[:4000]"
   ]
  },
  {
   "cell_type": "code",
   "execution_count": 8,
   "id": "b84b5a1b",
   "metadata": {
    "execution": {
     "iopub.execute_input": "2023-10-23T13:35:54.147550Z",
     "iopub.status.busy": "2023-10-23T13:35:54.147179Z",
     "iopub.status.idle": "2023-10-23T13:35:54.153402Z",
     "shell.execute_reply": "2023-10-23T13:35:54.152207Z"
    },
    "papermill": {
     "duration": 0.014887,
     "end_time": "2023-10-23T13:35:54.156007",
     "exception": false,
     "start_time": "2023-10-23T13:35:54.141120",
     "status": "completed"
    },
    "tags": []
   },
   "outputs": [],
   "source": [
    "one = df.index[df['label'] == 1].tolist()"
   ]
  },
  {
   "cell_type": "code",
   "execution_count": 9,
   "id": "99028ff1",
   "metadata": {
    "execution": {
     "iopub.execute_input": "2023-10-23T13:35:54.167430Z",
     "iopub.status.busy": "2023-10-23T13:35:54.167067Z",
     "iopub.status.idle": "2023-10-23T13:35:54.189040Z",
     "shell.execute_reply": "2023-10-23T13:35:54.187631Z"
    },
    "papermill": {
     "duration": 0.030531,
     "end_time": "2023-10-23T13:35:54.191461",
     "exception": false,
     "start_time": "2023-10-23T13:35:54.160930",
     "status": "completed"
    },
    "tags": []
   },
   "outputs": [],
   "source": [
    "df_one = df.loc[one]\n",
    "df_one = df_one[:4000]"
   ]
  },
  {
   "cell_type": "code",
   "execution_count": 10,
   "id": "d75add09",
   "metadata": {
    "execution": {
     "iopub.execute_input": "2023-10-23T13:35:54.202727Z",
     "iopub.status.busy": "2023-10-23T13:35:54.202338Z",
     "iopub.status.idle": "2023-10-23T13:35:54.216978Z",
     "shell.execute_reply": "2023-10-23T13:35:54.215992Z"
    },
    "papermill": {
     "duration": 0.023388,
     "end_time": "2023-10-23T13:35:54.219616",
     "exception": false,
     "start_time": "2023-10-23T13:35:54.196228",
     "status": "completed"
    },
    "tags": []
   },
   "outputs": [],
   "source": [
    "df_final= pd.concat([df_one, df_zero])"
   ]
  },
  {
   "cell_type": "code",
   "execution_count": 11,
   "id": "7892ec94",
   "metadata": {
    "execution": {
     "iopub.execute_input": "2023-10-23T13:35:54.230734Z",
     "iopub.status.busy": "2023-10-23T13:35:54.230328Z",
     "iopub.status.idle": "2023-10-23T13:35:54.251068Z",
     "shell.execute_reply": "2023-10-23T13:35:54.249870Z"
    },
    "papermill": {
     "duration": 0.029305,
     "end_time": "2023-10-23T13:35:54.253726",
     "exception": false,
     "start_time": "2023-10-23T13:35:54.224421",
     "status": "completed"
    },
    "tags": []
   },
   "outputs": [],
   "source": [
    "y = df_final['label']\n",
    "X = df_final.drop(columns = 'label')\n",
    "X = X.reset_index(drop = True)"
   ]
  },
  {
   "cell_type": "code",
   "execution_count": 12,
   "id": "e0fd6294",
   "metadata": {},
   "outputs": [],
   "source": [
    "X = X/255.0"
   ]
  },
  {
   "cell_type": "code",
   "execution_count": 13,
   "id": "9797005d",
   "metadata": {},
   "outputs": [
    {
     "data": {
      "text/plain": [
       "1.0"
      ]
     },
     "execution_count": 13,
     "metadata": {},
     "output_type": "execute_result"
    }
   ],
   "source": [
    "X.to_numpy().max()"
   ]
  },
  {
   "cell_type": "code",
   "execution_count": 14,
   "id": "acf3eab5",
   "metadata": {},
   "outputs": [
    {
     "data": {
      "text/plain": [
       "17.179045827184005"
      ]
     },
     "execution_count": 14,
     "metadata": {},
     "output_type": "execute_result"
    }
   ],
   "source": [
    "np.sqrt(np.square(X).sum(axis=1)).max()"
   ]
  },
  {
   "cell_type": "code",
   "execution_count": null,
   "id": "c6893976",
   "metadata": {},
   "outputs": [],
   "source": [
    "# Normalizing\n",
    "\n",
    "div_value = np.sqrt(np.square(X).sum(axis=1)).max()\n",
    "\n",
    "X = X/div_value\n",
    "c = np.sqrt(np.square(X).sum(axis=1)).max()"
   ]
  },
  {
   "cell_type": "code",
   "execution_count": null,
   "id": "bb9c27f0",
   "metadata": {},
   "outputs": [],
   "source": [
    "c"
   ]
  },
  {
   "cell_type": "code",
   "execution_count": 15,
   "id": "42a9c041",
   "metadata": {},
   "outputs": [],
   "source": [
    "# Norm clipping\n",
    "c = 1.0\n",
    "\n",
    "l2_values = np.sqrt(np.square(X).sum(axis=1)).to_numpy()\n",
    "func = np.vectorize(lambda t: max(1, t/c))\n",
    "l2 = func(l2_values)\n",
    "L2 = pd.DataFrame({'L2': l2[:]})\n",
    "X = X.assign(**{col: X[col] / L2['L2'] for col in list(X.columns)})\n",
    "\n",
    "c = np.sqrt(np.square(X).sum(axis=1)).max()"
   ]
  },
  {
   "cell_type": "code",
   "execution_count": 16,
   "id": "258f8055",
   "metadata": {},
   "outputs": [
    {
     "data": {
      "text/plain": [
       "1.000000000000003"
      ]
     },
     "execution_count": 16,
     "metadata": {},
     "output_type": "execute_result"
    }
   ],
   "source": [
    "c"
   ]
  },
  {
   "cell_type": "code",
   "execution_count": 17,
   "id": "42307da6",
   "metadata": {},
   "outputs": [
    {
     "name": "stderr",
     "output_type": "stream",
     "text": [
      "C:\\Users\\Niaz Mohaiman Abtahi\\AppData\\Local\\Temp\\ipykernel_27196\\2346172698.py:3: PerformanceWarning: DataFrame is highly fragmented.  This is usually the result of calling `frame.insert` many times, which has poor performance.  Consider joining all columns at once using pd.concat(axis=1) instead. To get a de-fragmented frame, use `newframe = frame.copy()`\n",
      "  X['bias'] = 1\n"
     ]
    }
   ],
   "source": [
    "# Adding bias here for not to deal with it later\n",
    "\n",
    "X['bias'] = 1\n",
    "cols = X.columns.tolist()\n",
    "cols = cols[-1:] + cols[:-1]\n",
    "X = X[cols]"
   ]
  },
  {
   "cell_type": "code",
   "execution_count": 18,
   "id": "28c2bcee",
   "metadata": {},
   "outputs": [],
   "source": [
    "# Numpy conversion\n",
    "\n",
    "X = X.to_numpy()"
   ]
  },
  {
   "cell_type": "code",
   "execution_count": 19,
   "id": "91b4afc5",
   "metadata": {
    "execution": {
     "iopub.execute_input": "2023-10-23T13:35:54.318270Z",
     "iopub.status.busy": "2023-10-23T13:35:54.317920Z",
     "iopub.status.idle": "2023-10-23T13:35:54.478895Z",
     "shell.execute_reply": "2023-10-23T13:35:54.477259Z"
    },
    "papermill": {
     "duration": 0.169478,
     "end_time": "2023-10-23T13:35:54.481547",
     "exception": false,
     "start_time": "2023-10-23T13:35:54.312069",
     "status": "completed"
    },
    "tags": []
   },
   "outputs": [],
   "source": [
    "# train test split\n",
    "X_train, X_test, y_train, y_test = train_test_split(X, y, test_size=0.2, random_state = SEED, shuffle=True)"
   ]
  },
  {
   "cell_type": "code",
   "execution_count": 20,
   "id": "580ddca5",
   "metadata": {
    "execution": {
     "iopub.execute_input": "2023-10-23T13:35:54.493796Z",
     "iopub.status.busy": "2023-10-23T13:35:54.493430Z",
     "iopub.status.idle": "2023-10-23T13:35:54.500869Z",
     "shell.execute_reply": "2023-10-23T13:35:54.499357Z"
    },
    "papermill": {
     "duration": 0.017025,
     "end_time": "2023-10-23T13:35:54.503411",
     "exception": false,
     "start_time": "2023-10-23T13:35:54.486386",
     "status": "completed"
    },
    "tags": []
   },
   "outputs": [],
   "source": [
    "y_train = np.where(y_train == 0, -1, 1)\n",
    "y_test = np.where(y_test == 0, -1, 1)"
   ]
  },
  {
   "cell_type": "markdown",
   "id": "32886550",
   "metadata": {
    "papermill": {
     "duration": 0.004687,
     "end_time": "2023-10-23T13:35:54.513174",
     "exception": false,
     "start_time": "2023-10-23T13:35:54.508487",
     "status": "completed"
    },
    "tags": []
   },
   "source": [
    "# SVM model"
   ]
  },
  {
   "cell_type": "code",
   "execution_count": 21,
   "id": "1189a188",
   "metadata": {
    "execution": {
     "iopub.execute_input": "2023-10-23T13:35:54.525405Z",
     "iopub.status.busy": "2023-10-23T13:35:54.524992Z",
     "iopub.status.idle": "2023-10-23T13:35:54.540955Z",
     "shell.execute_reply": "2023-10-23T13:35:54.539327Z"
    },
    "papermill": {
     "duration": 0.025464,
     "end_time": "2023-10-23T13:35:54.543647",
     "exception": false,
     "start_time": "2023-10-23T13:35:54.518183",
     "status": "completed"
    },
    "tags": []
   },
   "outputs": [],
   "source": [
    "class SVM:\n",
    "\n",
    "    def __init__(self, C = 1.0):\n",
    "        # C = error term\n",
    "        self.C = C\n",
    "        self.w = 0\n",
    "        #self.b = 0\n",
    "\n",
    "    # Huber Loss Function / Calculation\n",
    "    def huberloss(self, w, h, x, y):\n",
    "        # Regularizer term\n",
    "        reg = 0.5 * (w * w)\n",
    "\n",
    "        for i in range(x.shape[0]):\n",
    "            # Optimization term\n",
    "            opt_term = y[i] * ((np.dot(w, x[i])))\n",
    "            # calculating loss        \n",
    "            if abs(1-opt_term) <= h:\n",
    "                loss = reg + self.C * (1+h-opt_term)**2 / (4*h)\n",
    "            else:\n",
    "                loss = reg + self.C * max(0, 1-opt_term)\n",
    "        return loss[0][0]\n",
    "    \n",
    "    # Noise Generation\n",
    "    def noise(self, sigmaxsensitivity, N):\n",
    "        x = np.random.normal(loc = 0, scale = sigmaxsensitivity, size = (N, ))\n",
    "        #r = r/np.linalg.norm(r)\n",
    "        #rand_norm = np.random.gamma(N, 1/beta, 1)\n",
    "        #x = rand_norm * r\n",
    "        return x\n",
    "\n",
    "    def fit(self, ep, Sensitivity, delta, X, Y, batch_size=64, learning_rate=0.001, epochs=100):\n",
    "        # The number of features in X\n",
    "        number_of_features = X.shape[1]\n",
    "\n",
    "        # The number of Samples in X\n",
    "        number_of_samples = X.shape[0]\n",
    "\n",
    "        c = self.C\n",
    "        # beta calculation\n",
    "        # beta = ep / Sensitivity\n",
    "        #q = batch_size / number_of_samples\n",
    "        #T = epochs / q\n",
    "        h = 0.5\n",
    "        \n",
    "        # Sigma calculation\n",
    "        sigma = np.sqrt(2 * np.log(1.25 / delta)) / ep\n",
    "        \n",
    "        # Creating ids from 0 to number_of_samples - 1\n",
    "        ids = np.arange(number_of_samples)\n",
    "\n",
    "        # Shuffling the samples randomly\n",
    "        np.random.shuffle(ids)\n",
    "\n",
    "        # creating an array of zeros\n",
    "        w = np.ones((1, number_of_features))\n",
    "        #b = 0\n",
    "        losses = []\n",
    "\n",
    "        # Gradient Descent logic\n",
    "        for i in range(epochs):\n",
    "            # Calculating the Hinge Loss\n",
    "            l = self.huberloss(w, h, X, Y)\n",
    "\n",
    "            # Appending all losses \n",
    "            losses.append(l)\n",
    "            \n",
    "            # Starting from 0 to the number of samples with batch_size as interval\n",
    "            for batch_initial in range(0, number_of_samples, batch_size):\n",
    "                gradw = 0\n",
    "                #gradb = 0\n",
    "\n",
    "                for j in range(batch_initial, batch_initial+ batch_size):\n",
    "                    if j < number_of_samples:\n",
    "                        x = ids[j]\n",
    "                        ti = Y[x] * (np.dot(w, X[x].T))\n",
    "\n",
    "                        if ti > 1+h:\n",
    "                            gradw += 0\n",
    "                            #gradb += 0\n",
    "                            #gradb += self.noise(sigma * Sensitivity, 1)\n",
    "                            \n",
    "                        elif ti < 1-h:\n",
    "                            #w.r.t w \n",
    "                            gradw += c * Y[x] * X[x]\n",
    "                            # w.r.t b\n",
    "                            #gradb += c * Y[x]\n",
    "                            #gradw += self.noise(sigma * Sensitivity, number_of_features)\n",
    "                            #gradb += self.noise(sigma * Sensitivity, 1)\n",
    "                            \n",
    "                        else:\n",
    "                            #w.r.t w \n",
    "                            gradw += c * Y[x] * X[x] * (1+h-ti) / (2*h)\n",
    "                            # w.r.t b\n",
    "                            #gradb += c * Y[x] * (1+h-ti) / (2*h)\n",
    "                            #gradw += self.noise(sigma * Sensitivity, number_of_features)\n",
    "                            #gradb += self.noise(sigma * Sensitivity, 1)\n",
    "                            \n",
    "                # gradient perturbation\n",
    "                gradw += self.noise(sigma * Sensitivity, number_of_features)\n",
    "                \n",
    "                # Updating weights and bias\n",
    "                w = w - 2 * learning_rate * w + learning_rate * gradw\n",
    "                #b = b + 2 * learning_rate * gradb\n",
    "        \n",
    "        self.w = w\n",
    "        #self.b = b\n",
    "\n",
    "        return self.w, losses\n",
    "\n",
    "    def predict(self, X):\n",
    "        \n",
    "        prediction = np.dot(X, self.w[0]) # w.x\n",
    "        return np.sign(prediction)"
   ]
  },
  {
   "cell_type": "code",
   "execution_count": 22,
   "id": "f816bca7",
   "metadata": {
    "execution": {
     "iopub.execute_input": "2023-10-23T13:35:54.555079Z",
     "iopub.status.busy": "2023-10-23T13:35:54.554684Z",
     "iopub.status.idle": "2023-10-23T13:35:54.560570Z",
     "shell.execute_reply": "2023-10-23T13:35:54.559306Z"
    },
    "papermill": {
     "duration": 0.013778,
     "end_time": "2023-10-23T13:35:54.562444",
     "exception": false,
     "start_time": "2023-10-23T13:35:54.548666",
     "status": "completed"
    },
    "tags": []
   },
   "outputs": [],
   "source": [
    "# Sensitivity calculation\n",
    "m = X_train.shape[0]\n",
    "\n",
    "Sensitivity = 2*c/m"
   ]
  },
  {
   "cell_type": "markdown",
   "id": "7d5628c6",
   "metadata": {},
   "source": [
    "# Train"
   ]
  },
  {
   "cell_type": "code",
   "execution_count": 23,
   "id": "4029aed5",
   "metadata": {
    "execution": {
     "iopub.execute_input": "2023-10-23T13:35:54.573657Z",
     "iopub.status.busy": "2023-10-23T13:35:54.573328Z",
     "iopub.status.idle": "2023-10-23T18:36:02.686670Z",
     "shell.execute_reply": "2023-10-23T18:36:02.685884Z"
    },
    "papermill": {
     "duration": 18008.121845,
     "end_time": "2023-10-23T18:36:02.689240",
     "exception": false,
     "start_time": "2023-10-23T13:35:54.567395",
     "status": "completed"
    },
    "tags": []
   },
   "outputs": [],
   "source": [
    "delta = 1e-5\n",
    "svm = SVM()\n",
    "accuracies = []\n",
    "epsilon = [0.000005, 0.00001, 0.00005, 0.0001, 0.0005, 0.001]\n",
    "\n",
    "for i in range(10):\n",
    "    accuracy = []\n",
    "    for ep in epsilon:\n",
    "        w, losses = svm.fit(ep, Sensitivity, delta, X_train, y_train)\n",
    "        prediction = svm.predict(X_test)\n",
    "        acc = accuracy_score(prediction, y_test)\n",
    "        accuracy.append(acc)\n",
    "    accuracies.append(accuracy)"
   ]
  },
  {
   "cell_type": "code",
   "execution_count": 25,
   "id": "84afa999",
   "metadata": {},
   "outputs": [],
   "source": [
    "final_accuracy = np.mean(np.array(accuracies), axis = 0)"
   ]
  },
  {
   "cell_type": "code",
   "execution_count": 27,
   "id": "3561435d",
   "metadata": {},
   "outputs": [
    {
     "data": {
      "text/plain": [
       "array([0.721375 , 0.8225625, 0.994    , 0.9948125, 0.99625  , 0.99625  ])"
      ]
     },
     "execution_count": 27,
     "metadata": {},
     "output_type": "execute_result"
    }
   ],
   "source": [
    "final_accuracy"
   ]
  },
  {
   "cell_type": "markdown",
   "id": "76dd6ad6",
   "metadata": {},
   "source": [
    "# Overal Epsilon calculation"
   ]
  },
  {
   "cell_type": "code",
   "execution_count": 28,
   "id": "911a2bc7",
   "metadata": {},
   "outputs": [],
   "source": [
    "def calculate_overall_epsilon(num_epochs, sigma, C, target_delta=1e-5):\n",
    "    '''\n",
    "    num_epochs = number of iterations needed for convergence\n",
    "    sigma = standard deviation of noise added at each iteration\n",
    "    C = sensitivity of the function to which noise was added\n",
    "    target_delta = target probability of failure\n",
    "    '''\n",
    "    if num_epochs == 0: num_epochs = 1\n",
    "    if sigma is None:\n",
    "        return 0, None, None\n",
    "    else:\n",
    "        alpha_opt = 1 + ((2/num_epochs) * np.log(1/target_delta) * (sigma/C) ** 2) ** 0.5\n",
    "        epsilon = (alpha_opt * num_epochs)/(2 * (sigma/C) ** 2) + np.log(1/target_delta)/(alpha_opt-1)\n",
    "        return epsilon, target_delta, alpha_opt"
   ]
  },
  {
   "cell_type": "code",
   "execution_count": 29,
   "id": "3b6a2e74",
   "metadata": {},
   "outputs": [],
   "source": [
    "delta = 1e-5\n",
    "epsilon_count = []\n",
    "for ep in epsilon:\n",
    "    sigma_std_dev = (np.sqrt(2 * np.log(1.25 / delta)) / ep) * Sensitivity\n",
    "    a, b, c = calculate_overall_epsilon(100, sigma_std_dev, Sensitivity, delta)\n",
    "    epsilon_count.append(a)"
   ]
  },
  {
   "cell_type": "markdown",
   "id": "6e5322c8",
   "metadata": {
    "papermill": {
     "duration": 0.005793,
     "end_time": "2023-10-23T18:36:02.702017",
     "exception": false,
     "start_time": "2023-10-23T18:36:02.696224",
     "status": "completed"
    },
    "tags": []
   },
   "source": [
    "# Data visualisation"
   ]
  },
  {
   "cell_type": "code",
   "execution_count": 30,
   "id": "814b58da",
   "metadata": {},
   "outputs": [
    {
     "data": {
      "text/plain": [
       "[4.952243498197596e-05,\n",
       " 9.904497647320969e-05,\n",
       " 0.000495229142736359,\n",
       " 0.0009904689363984943,\n",
       " 0.004952770719023532,\n",
       " 0.009906606530624711]"
      ]
     },
     "execution_count": 30,
     "metadata": {},
     "output_type": "execute_result"
    }
   ],
   "source": [
    "epsilon_count"
   ]
  },
  {
   "cell_type": "code",
   "execution_count": 40,
   "id": "dbfe57cc",
   "metadata": {},
   "outputs": [
    {
     "data": {
      "text/plain": [
       "array([0.721375 , 0.8225625, 0.994    , 0.9948125, 0.99625  , 0.99625  ])"
      ]
     },
     "execution_count": 40,
     "metadata": {},
     "output_type": "execute_result"
    }
   ],
   "source": [
    "final_accuracy"
   ]
  },
  {
   "cell_type": "code",
   "execution_count": 49,
   "id": "e75bb56e",
   "metadata": {},
   "outputs": [
    {
     "data": {
      "image/png": "[encoded data removed]",
      "text/plain": [
       "<Figure size 432x288 with 2 Axes>"
      ]
     },
     "metadata": {
      "needs_background": "light"
     },
     "output_type": "display_data"
    }
   ],
   "source": [
    "fig, ax1 = plt.subplots()\n",
    "\n",
    "ax2 = ax1.twinx()\n",
    "ax1.plot(epsilon, np.multiply(final_accuracy, 100), 'g-', label=\"Accuracy\", marker = 'v', color = 'k', linestyle = '--')\n",
    "ax2.plot(epsilon, epsilon_count, marker = 'v', color = 'b', linestyle = '-.')\n",
    "\n",
    "ax1.set_xlabel('Epsilon')\n",
    "ax1.set_ylabel('Accuracy', color='g')\n",
    "ax2.set_ylabel('Overall epsilon', color='b')\n",
    "\n",
    "plt.show()"
   ]
  }
 ],
 "metadata": {
  "kernelspec": {
   "display_name": "Python 3 (ipykernel)",
   "language": "python",
   "name": "python3"
  },
  "language_info": {
   "codemirror_mode": {
    "name": "ipython",
    "version": 3
   },
   "file_extension": ".py",
   "mimetype": "text/x-python",
   "name": "python",
   "nbconvert_exporter": "python",
   "pygments_lexer": "ipython3",
   "version": "3.9.12"
  },
  "papermill": {
   "default_parameters": {},
   "duration": 18021.428073,
   "end_time": "2023-10-23T18:36:04.375817",
   "environment_variables": {},
   "exception": null,
   "input_path": "__notebook__.ipynb",
   "output_path": "__notebook__.ipynb",
   "parameters": {},
   "start_time": "2023-10-23T13:35:42.947744",
   "version": "2.4.0"
  }
 },
 "nbformat": 4,
 "nbformat_minor": 5
}
